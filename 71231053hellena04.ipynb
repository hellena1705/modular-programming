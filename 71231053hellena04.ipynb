{
  "nbformat": 4,
  "nbformat_minor": 0,
  "metadata": {
    "colab": {
      "provenance": []
    },
    "kernelspec": {
      "name": "python3",
      "display_name": "Python 3"
    },
    "language_info": {
      "name": "python"
    }
  },
  "cells": [
    {
      "cell_type": "markdown",
      "source": [
        "soal 1"
      ],
      "metadata": {
        "id": "qJ4aV_EM1gvF"
      }
    },
    {
      "cell_type": "code",
      "source": [
        "def cek_angka(a, b, c):\n",
        "    if a != b and b != c and a != c:\n",
        "        if a + b == c or a + c == b or b + c == a:\n",
        "            return True\n",
        "        else:\n",
        "            return False\n",
        "    else:\n",
        "        return False\n",
        "\n",
        "\n",
        "hasil = cek_angka(2, 5, 3)\n",
        "print(hasil)"
      ],
      "metadata": {
        "colab": {
          "base_uri": "https://localhost:8080/"
        },
        "id": "_SC9TivD1ij7",
        "outputId": "e5fd059e-eff3-4a73-db29-0f38c74e8c5d"
      },
      "execution_count": 2,
      "outputs": [
        {
          "output_type": "stream",
          "name": "stdout",
          "text": [
            "True\n"
          ]
        }
      ]
    },
    {
      "cell_type": "markdown",
      "source": [
        "soal 2"
      ],
      "metadata": {
        "id": "DBj9q1xR197-"
      }
    },
    {
      "cell_type": "code",
      "source": [
        "def cek_digit_belakang(a,b,c):\n",
        "    digit_a = a % 10\n",
        "    digit_b = b % 10\n",
        "    digit_c = c % 10\n",
        "\n",
        "    return digit_a == digit_b or digit_b == digit_c or digit_a == digit_c\n",
        "\n",
        "input_a = int(input(\"Masukkan nilai untuk digit a: \"))\n",
        "input_b = int(input(\"Masukkan nila untuk digit  b: \"))\n",
        "input_c = int(input(\"Masukkan nilai untuk digit  c: \"))\n",
        "\n",
        "hasil = cek_digit_belakang(input_a, input_b, input_c)\n",
        "print(hasil)"
      ],
      "metadata": {
        "colab": {
          "base_uri": "https://localhost:8080/"
        },
        "id": "_mdF2WPS1_GG",
        "outputId": "e4e08610-b76c-4f7a-9602-e001b9f517f3"
      },
      "execution_count": 7,
      "outputs": [
        {
          "output_type": "stream",
          "name": "stdout",
          "text": [
            "Masukkan nilai untuk digit a: 53\n",
            "Masukkan nila untuk digit  b: 8900\n",
            "Masukkan nilai untuk digit  c: 658\n",
            "False\n"
          ]
        }
      ]
    },
    {
      "cell_type": "markdown",
      "source": [
        "soal 3"
      ],
      "metadata": {
        "id": "oBvbrNLW4rd9"
      }
    },
    {
      "cell_type": "code",
      "source": [
        "celcius_to_fahrenheit = lambda c: (9/5) * c + 32\n",
        "celcius_to_reamur = lambda c: 0.8 * c\n",
        "\n",
        "input_Celcius = 0\n",
        "output_fahrenheit = celcius_to_fahrenheit(input_Celcius)\n",
        "output_reamur = celcius_to_reamur(input_Celcius)\n",
        "\n",
        "print(f\"Input C = {input_Celcius}. Output F = {output_fahrenheit}.\")\n",
        "print(f\"Input C = {input_Celcius}. Output R = {output_reamur}.\")"
      ],
      "metadata": {
        "colab": {
          "base_uri": "https://localhost:8080/"
        },
        "id": "jSaMlZPF4s81",
        "outputId": "0da4fae1-8a0c-43af-fe75-808093374e55"
      },
      "execution_count": 10,
      "outputs": [
        {
          "output_type": "stream",
          "name": "stdout",
          "text": [
            "Input C = 0. Output F = 32.0.\n",
            "Input C = 0. Output R = 0.0.\n"
          ]
        }
      ]
    }
  ]
}